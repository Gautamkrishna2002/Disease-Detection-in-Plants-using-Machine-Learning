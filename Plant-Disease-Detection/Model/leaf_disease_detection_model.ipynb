{
  "nbformat": 4,
  "nbformat_minor": 0,
  "metadata": {
    "colab": {
      "provenance": []
    },
    "kernelspec": {
      "name": "python3",
      "display_name": "Python 3"
    },
    "language_info": {
      "name": "python"
    },
    "accelerator": "GPU",
    "gpuClass": "standard"
  },
  "cells": [
    {
      "cell_type": "code",
      "execution_count": 2,
      "metadata": {
        "id": "Vd9sKPBZM2Dx"
      },
      "outputs": [],
      "source": [
        "import cv2,os\n",
        "from keras.utils import np_utils\n",
        "import numpy as np\n",
        "from keras.models import Sequential\n",
        "from keras.layers import Dense,Activation,Flatten,Dropout\n",
        "from keras.layers import Conv2D,MaxPooling2D\n",
        "from keras.callbacks import ModelCheckpoint\n",
        "from sklearn.model_selection import train_test_split\n",
        "from matplotlib import pyplot as plt\n",
        "from keras.models import load_model\n",
        "import tensorflow as tf\n",
        "from keras.models import save_model"
      ]
    },
    {
      "cell_type": "code",
      "source": [
        "from google.colab import drive\n",
        "drive.mount('/content/drive')"
      ],
      "metadata": {
        "colab": {
          "base_uri": "https://localhost:8080/"
        },
        "id": "eTZ44hk9NFWe",
        "outputId": "de87654d-8d33-489c-e615-f7bdf182b46d"
      },
      "execution_count": 3,
      "outputs": [
        {
          "output_type": "stream",
          "name": "stdout",
          "text": [
            "Drive already mounted at /content/drive; to attempt to forcibly remount, call drive.mount(\"/content/drive\", force_remount=True).\n"
          ]
        }
      ]
    },
    {
      "cell_type": "code",
      "source": [
        "%tensorflow_version 2.x\n",
        "import tensorflow as tf\n",
        "device_name = tf.test.gpu_device_name()\n",
        "if device_name != '/device:GPU:0':\n",
        "  raise SystemError('GPU device not found')\n",
        "print('Found GPU at: {}'.format(device_name))"
      ],
      "metadata": {
        "colab": {
          "base_uri": "https://localhost:8080/"
        },
        "id": "uG3vtGNJNNcy",
        "outputId": "34d197dd-9c38-4270-d033-d0ba9bd5ee61"
      },
      "execution_count": 6,
      "outputs": [
        {
          "output_type": "stream",
          "name": "stdout",
          "text": [
            "Colab only includes TensorFlow 2.x; %tensorflow_version has no effect.\n",
            "Found GPU at: /device:GPU:0\n"
          ]
        }
      ]
    },
    {
      "cell_type": "code",
      "source": [
        "data_path='/content/drive/MyDrive/datset/plantdisease/train'\n",
        "categories=os.listdir(data_path)                        \n",
        "labels=[i for i in range(len(categories))]"
      ],
      "metadata": {
        "id": "XMqFb3C7Ny4T"
      },
      "execution_count": 23,
      "outputs": []
    },
    {
      "cell_type": "code",
      "source": [
        "print(categories)\n",
        "print(labels)"
      ],
      "metadata": {
        "colab": {
          "base_uri": "https://localhost:8080/"
        },
        "id": "ZSSBBneVOoYf",
        "outputId": "dc7c6574-fa4d-4e5f-e32a-6c35c7bc80c8"
      },
      "execution_count": 5,
      "outputs": [
        {
          "output_type": "stream",
          "name": "stdout",
          "text": [
            "['Apple___Apple_scab', 'Apple___Black_rot', 'Apple___Cedar_apple_rust', 'Apple___healthy', 'Peach___Bacterial_spot', 'Peach___healthy']\n",
            "[0, 1, 2, 3, 4, 5]\n"
          ]
        }
      ]
    },
    {
      "cell_type": "code",
      "source": [
        "label_dict=dict(zip(categories,labels))"
      ],
      "metadata": {
        "id": "D1y7_IyzOsQO"
      },
      "execution_count": 6,
      "outputs": []
    },
    {
      "cell_type": "code",
      "source": [
        "print(label_dict)"
      ],
      "metadata": {
        "colab": {
          "base_uri": "https://localhost:8080/"
        },
        "id": "K1BMj895O3xT",
        "outputId": "06c397a1-a4f1-4d02-ae70-1557413cfcfa"
      },
      "execution_count": 7,
      "outputs": [
        {
          "output_type": "stream",
          "name": "stdout",
          "text": [
            "{'Apple___Apple_scab': 0, 'Apple___Black_rot': 1, 'Apple___Cedar_apple_rust': 2, 'Apple___healthy': 3, 'Peach___Bacterial_spot': 4, 'Peach___healthy': 5}\n"
          ]
        }
      ]
    },
    {
      "cell_type": "code",
      "source": [
        "img_size=100\n",
        "data=[]\n",
        "target=[]"
      ],
      "metadata": {
        "id": "YqGhknoEO528"
      },
      "execution_count": 8,
      "outputs": []
    },
    {
      "cell_type": "code",
      "source": [
        "for category in categories:\n",
        "    folder_path=os.path.join(data_path,category)\n",
        "    img_names=os.listdir(folder_path)\n",
        "        \n",
        "    for img_name in img_names:\n",
        "        img_path=os.path.join(folder_path,img_name)\n",
        "        img=cv2.imread(img_path)\n",
        "\n",
        "        try:\n",
        "            resized=cv2.resize(img,(img_size,img_size))\n",
        "            #resizing the image into 100x100, since we need a fixed common size for all the images in the dataset\n",
        "            data.append(resized)\n",
        "            target.append(label_dict[category])\n",
        "            #appending the image and the label(categorized) into the list (dataset)\n",
        "\n",
        "        except Exception as e:\n",
        "            print('Exception:',e)\n",
        "            #if any exception rasied, the exception will be printed here. And pass to the next image"
      ],
      "metadata": {
        "id": "SKgk3G3PPAqy"
      },
      "execution_count": 9,
      "outputs": []
    },
    {
      "cell_type": "code",
      "source": [
        "len(data)"
      ],
      "metadata": {
        "colab": {
          "base_uri": "https://localhost:8080/"
        },
        "id": "f0jk7pl4PFFf",
        "outputId": "3e4945a5-3d74-4e38-9f4b-fafc20ea26b1"
      },
      "execution_count": 10,
      "outputs": [
        {
          "output_type": "execute_result",
          "data": {
            "text/plain": [
              "11345"
            ]
          },
          "metadata": {},
          "execution_count": 10
        }
      ]
    },
    {
      "cell_type": "code",
      "source": [
        "len(target)"
      ],
      "metadata": {
        "colab": {
          "base_uri": "https://localhost:8080/"
        },
        "id": "8KyJpwD8QIVL",
        "outputId": "dac298b9-07bc-427d-ef5d-4683f52490ed"
      },
      "execution_count": 11,
      "outputs": [
        {
          "output_type": "execute_result",
          "data": {
            "text/plain": [
              "11345"
            ]
          },
          "metadata": {},
          "execution_count": 11
        }
      ]
    },
    {
      "cell_type": "code",
      "source": [
        "type(data)"
      ],
      "metadata": {
        "colab": {
          "base_uri": "https://localhost:8080/"
        },
        "id": "ZhM1f9kvQJpN",
        "outputId": "d87e4532-8974-4509-b89f-80fbb7f08f65"
      },
      "execution_count": 12,
      "outputs": [
        {
          "output_type": "execute_result",
          "data": {
            "text/plain": [
              "list"
            ]
          },
          "metadata": {},
          "execution_count": 12
        }
      ]
    },
    {
      "cell_type": "code",
      "source": [
        "data=np.array(data)/255.0\n",
        "type(data)"
      ],
      "metadata": {
        "colab": {
          "base_uri": "https://localhost:8080/"
        },
        "id": "lLOz_rQYQXyJ",
        "outputId": "3ae6fd6f-20ac-4c29-ac67-57a3c469c413"
      },
      "execution_count": 13,
      "outputs": [
        {
          "output_type": "execute_result",
          "data": {
            "text/plain": [
              "numpy.ndarray"
            ]
          },
          "metadata": {},
          "execution_count": 13
        }
      ]
    },
    {
      "cell_type": "code",
      "source": [
        "data.shape"
      ],
      "metadata": {
        "colab": {
          "base_uri": "https://localhost:8080/"
        },
        "id": "HH_BfCaZQb82",
        "outputId": "1f3b6566-4b9d-44c5-95e1-b50f28a3470c"
      },
      "execution_count": 14,
      "outputs": [
        {
          "output_type": "execute_result",
          "data": {
            "text/plain": [
              "(11345, 100, 100, 3)"
            ]
          },
          "metadata": {},
          "execution_count": 14
        }
      ]
    },
    {
      "cell_type": "code",
      "source": [
        "target = np.array(target)"
      ],
      "metadata": {
        "id": "5TpI2Zi0Qhib"
      },
      "execution_count": 15,
      "outputs": []
    },
    {
      "cell_type": "code",
      "source": [
        "target.shape"
      ],
      "metadata": {
        "colab": {
          "base_uri": "https://localhost:8080/"
        },
        "id": "UACly0W-Q9cO",
        "outputId": "539ecdfd-b722-4adc-e92d-f84bd404989f"
      },
      "execution_count": 16,
      "outputs": [
        {
          "output_type": "execute_result",
          "data": {
            "text/plain": [
              "(11345,)"
            ]
          },
          "metadata": {},
          "execution_count": 16
        }
      ]
    },
    {
      "cell_type": "code",
      "source": [
        "new_target=np_utils.to_categorical(target) "
      ],
      "metadata": {
        "id": "EM0QTTleQ_VX"
      },
      "execution_count": 17,
      "outputs": []
    },
    {
      "cell_type": "code",
      "source": [
        "print(new_target)"
      ],
      "metadata": {
        "colab": {
          "base_uri": "https://localhost:8080/"
        },
        "id": "MVAZamVLRGA7",
        "outputId": "9ae6f27f-801a-4e4e-83d7-026a9b6119c2"
      },
      "execution_count": 18,
      "outputs": [
        {
          "output_type": "stream",
          "name": "stdout",
          "text": [
            "[[1. 0. 0. 0. 0. 0.]\n",
            " [1. 0. 0. 0. 0. 0.]\n",
            " [1. 0. 0. 0. 0. 0.]\n",
            " ...\n",
            " [0. 0. 0. 0. 0. 1.]\n",
            " [0. 0. 0. 0. 0. 1.]\n",
            " [0. 0. 0. 0. 0. 1.]]\n"
          ]
        }
      ]
    },
    {
      "cell_type": "code",
      "source": [
        "new_target.shape"
      ],
      "metadata": {
        "colab": {
          "base_uri": "https://localhost:8080/"
        },
        "id": "GV0buL-zRIj5",
        "outputId": "579ef12a-84ca-4e9c-c71a-1686ea8f8617"
      },
      "execution_count": 19,
      "outputs": [
        {
          "output_type": "execute_result",
          "data": {
            "text/plain": [
              "(11345, 6)"
            ]
          },
          "metadata": {},
          "execution_count": 19
        }
      ]
    },
    {
      "cell_type": "code",
      "source": [
        "np.save('/content/drive/MyDrive/datset/plantdisease/data',data)\n",
        "np.save('/content/drive/MyDrive/datset/plantdisease/target',new_target)"
      ],
      "metadata": {
        "id": "2QAJKqyYRMJi"
      },
      "execution_count": 20,
      "outputs": []
    },
    {
      "cell_type": "markdown",
      "source": [
        "# Training starts from here"
      ],
      "metadata": {
        "id": "6xXty6CzR9wC"
      }
    },
    {
      "cell_type": "code",
      "source": [
        "data=np.load('/content/drive/MyDrive/datset/plantdisease/data.npy')\n",
        "target=np.load('/content/drive/MyDrive/datset/plantdisease/target.npy')"
      ],
      "metadata": {
        "id": "i0hv5m8-Rpgb"
      },
      "execution_count": 4,
      "outputs": []
    },
    {
      "cell_type": "code",
      "source": [
        "data.shape"
      ],
      "metadata": {
        "colab": {
          "base_uri": "https://localhost:8080/"
        },
        "id": "2u1jFgMYUUgm",
        "outputId": "192cb23a-cf9b-4095-cf1e-9715ec21f386"
      },
      "execution_count": 5,
      "outputs": [
        {
          "output_type": "execute_result",
          "data": {
            "text/plain": [
              "(11345, 100, 100, 3)"
            ]
          },
          "metadata": {},
          "execution_count": 5
        }
      ]
    },
    {
      "cell_type": "code",
      "source": [
        "target.shape"
      ],
      "metadata": {
        "colab": {
          "base_uri": "https://localhost:8080/"
        },
        "id": "Uio3jeDLUUwz",
        "outputId": "f6e0fbd8-e8d6-47e5-d8b1-aea93fae8367"
      },
      "execution_count": 31,
      "outputs": [
        {
          "output_type": "execute_result",
          "data": {
            "text/plain": [
              "(11345, 6)"
            ]
          },
          "metadata": {},
          "execution_count": 31
        }
      ]
    },
    {
      "cell_type": "code",
      "source": [
        "img_size = 100"
      ],
      "metadata": {
        "id": "qRGAQkp4W95T"
      },
      "execution_count": 7,
      "outputs": []
    },
    {
      "cell_type": "code",
      "source": [
        "data = np.reshape(data,(data.shape[0],img_size,img_size,3))"
      ],
      "metadata": {
        "id": "zpwAr9nuUbSb"
      },
      "execution_count": 8,
      "outputs": []
    },
    {
      "cell_type": "code",
      "source": [
        "data.shape"
      ],
      "metadata": {
        "colab": {
          "base_uri": "https://localhost:8080/"
        },
        "id": "fX4aSXuwVHy-",
        "outputId": "2de8bcbb-a7b2-4ac1-d5bd-fcb5bb392e82"
      },
      "execution_count": 17,
      "outputs": [
        {
          "output_type": "execute_result",
          "data": {
            "text/plain": [
              "(11345, 100, 100, 3)"
            ]
          },
          "metadata": {},
          "execution_count": 17
        }
      ]
    },
    {
      "cell_type": "code",
      "source": [
        "data.shape[1:]"
      ],
      "metadata": {
        "colab": {
          "base_uri": "https://localhost:8080/"
        },
        "id": "715N-YKoVLPs",
        "outputId": "7bafe5db-bd83-4079-abfd-63bc33876430"
      },
      "execution_count": 18,
      "outputs": [
        {
          "output_type": "execute_result",
          "data": {
            "text/plain": [
              "(100, 100, 3)"
            ]
          },
          "metadata": {},
          "execution_count": 18
        }
      ]
    },
    {
      "cell_type": "code",
      "source": [
        "model=Sequential()\n",
        "\n",
        "model.add(Conv2D(128,(3,3),input_shape=data.shape[1:]))\n",
        "model.add(Activation('relu'))\n",
        "model.add(MaxPooling2D(pool_size=(2,2)))\n",
        "\n",
        "model.add(Conv2D(64,(3,3)))\n",
        "model.add(Activation('relu'))\n",
        "model.add(MaxPooling2D(pool_size=(2,2)))\n",
        "\n",
        "model.add(Conv2D(32,(3,3)))\n",
        "model.add(Activation('relu'))\n",
        "model.add(MaxPooling2D(pool_size=(2,2)))\n",
        "\n",
        "model.add(Flatten())\n",
        "model.add(Dropout(0.5))\n",
        "model.add(Dense(64,activation='relu'))\n",
        "model.add(Dense(16,activation='relu'))\n",
        "model.add(Dense(6,activation='softmax'))\n",
        "\n",
        "model.compile(loss='categorical_crossentropy',optimizer='adam',metrics=['accuracy'])"
      ],
      "metadata": {
        "id": "JkmG1fjaSE1u"
      },
      "execution_count": 9,
      "outputs": []
    },
    {
      "cell_type": "code",
      "source": [],
      "metadata": {
        "id": "Zw6tuGWCUZmW"
      },
      "execution_count": null,
      "outputs": []
    },
    {
      "cell_type": "code",
      "source": [
        "train_data,test_data,train_target,test_target=train_test_split(data,target,test_size=0.1)"
      ],
      "metadata": {
        "id": "Le00-_IZSOfu"
      },
      "execution_count": 10,
      "outputs": []
    },
    {
      "cell_type": "code",
      "source": [
        "train_data.shape"
      ],
      "metadata": {
        "colab": {
          "base_uri": "https://localhost:8080/"
        },
        "id": "qROQ3ZjWSTyF",
        "outputId": "75356c85-cede-4f70-8cdd-776cbcdc36f0"
      },
      "execution_count": 21,
      "outputs": [
        {
          "output_type": "execute_result",
          "data": {
            "text/plain": [
              "(10210, 100, 100, 3)"
            ]
          },
          "metadata": {},
          "execution_count": 21
        }
      ]
    },
    {
      "cell_type": "code",
      "source": [
        "test_data.shape"
      ],
      "metadata": {
        "colab": {
          "base_uri": "https://localhost:8080/"
        },
        "id": "w44IUzzLSXtQ",
        "outputId": "8bb66c9c-ff8d-4e0e-a38a-a5bda2434af0"
      },
      "execution_count": 22,
      "outputs": [
        {
          "output_type": "execute_result",
          "data": {
            "text/plain": [
              "(1135, 100, 100, 3)"
            ]
          },
          "metadata": {},
          "execution_count": 22
        }
      ]
    },
    {
      "cell_type": "code",
      "source": [
        "train_target.shape"
      ],
      "metadata": {
        "colab": {
          "base_uri": "https://localhost:8080/"
        },
        "id": "8jfib7WaSpXQ",
        "outputId": "e9bccece-552d-48c1-b225-db3c031d1987"
      },
      "execution_count": 23,
      "outputs": [
        {
          "output_type": "execute_result",
          "data": {
            "text/plain": [
              "(10210, 6)"
            ]
          },
          "metadata": {},
          "execution_count": 23
        }
      ]
    },
    {
      "cell_type": "code",
      "source": [
        "checkpoint = ModelCheckpoint('model-{epoch:03d}.model',monitor='val_loss',verbose=0,save_best_only=True,mode='auto')\n",
        "history=model.fit(train_data,train_target,epochs=100,callbacks=[checkpoint],validation_split=0.2)"
      ],
      "metadata": {
        "colab": {
          "base_uri": "https://localhost:8080/"
        },
        "id": "LAfjEgeSSvIE",
        "outputId": "f5632f9f-a53f-4a5b-a803-ab18c9ef449a"
      },
      "execution_count": 11,
      "outputs": [
        {
          "output_type": "stream",
          "name": "stdout",
          "text": [
            "Epoch 1/100\n",
            "256/256 [==============================] - ETA: 0s - loss: 1.0029 - accuracy: 0.6082"
          ]
        },
        {
          "output_type": "stream",
          "name": "stderr",
          "text": [
            "WARNING:absl:Found untraced functions such as _jit_compiled_convolution_op, _jit_compiled_convolution_op, _jit_compiled_convolution_op while saving (showing 3 of 3). These functions will not be directly callable after loading.\n"
          ]
        },
        {
          "output_type": "stream",
          "name": "stdout",
          "text": [
            "\b\b\b\b\b\b\b\b\b\b\b\b\b\b\b\b\b\b\b\b\b\b\b\b\b\b\b\b\b\b\b\b\b\b\b\b\b\b\b\b\b\b\b\b\b\b\b\b\b\b\b\b\b\b\b\b\b\b\b\b\b\b\b\b\b\b\b\b\b\b\b\b\b\b\b\b\b\b\b\b\b\b\b\b\r256/256 [==============================] - 24s 42ms/step - loss: 1.0029 - accuracy: 0.6082 - val_loss: 0.5095 - val_accuracy: 0.8168\n",
            "Epoch 2/100\n",
            "254/256 [============================>.] - ETA: 0s - loss: 0.4942 - accuracy: 0.8305"
          ]
        },
        {
          "output_type": "stream",
          "name": "stderr",
          "text": [
            "WARNING:absl:Found untraced functions such as _jit_compiled_convolution_op, _jit_compiled_convolution_op, _jit_compiled_convolution_op while saving (showing 3 of 3). These functions will not be directly callable after loading.\n"
          ]
        },
        {
          "output_type": "stream",
          "name": "stdout",
          "text": [
            "\b\b\b\b\b\b\b\b\b\b\b\b\b\b\b\b\b\b\b\b\b\b\b\b\b\b\b\b\b\b\b\b\b\b\b\b\b\b\b\b\b\b\b\b\b\b\b\b\b\b\b\b\b\b\b\b\b\b\b\b\b\b\b\b\b\b\b\b\b\b\b\b\b\b\b\b\b\b\b\b\b\b\b\b\r256/256 [==============================] - 8s 33ms/step - loss: 0.4926 - accuracy: 0.8310 - val_loss: 0.4565 - val_accuracy: 0.8369\n",
            "Epoch 3/100\n",
            "256/256 [==============================] - ETA: 0s - loss: 0.4020 - accuracy: 0.8564"
          ]
        },
        {
          "output_type": "stream",
          "name": "stderr",
          "text": [
            "WARNING:absl:Found untraced functions such as _jit_compiled_convolution_op, _jit_compiled_convolution_op, _jit_compiled_convolution_op while saving (showing 3 of 3). These functions will not be directly callable after loading.\n"
          ]
        },
        {
          "output_type": "stream",
          "name": "stdout",
          "text": [
            "\b\b\b\b\b\b\b\b\b\b\b\b\b\b\b\b\b\b\b\b\b\b\b\b\b\b\b\b\b\b\b\b\b\b\b\b\b\b\b\b\b\b\b\b\b\b\b\b\b\b\b\b\b\b\b\b\b\b\b\b\b\b\b\b\b\b\b\b\b\b\b\b\b\b\b\b\b\b\b\b\b\b\b\b\r256/256 [==============================] - 8s 33ms/step - loss: 0.4020 - accuracy: 0.8564 - val_loss: 0.3661 - val_accuracy: 0.8727\n",
            "Epoch 4/100\n",
            "256/256 [==============================] - ETA: 0s - loss: 0.3244 - accuracy: 0.8869"
          ]
        },
        {
          "output_type": "stream",
          "name": "stderr",
          "text": [
            "WARNING:absl:Found untraced functions such as _jit_compiled_convolution_op, _jit_compiled_convolution_op, _jit_compiled_convolution_op while saving (showing 3 of 3). These functions will not be directly callable after loading.\n"
          ]
        },
        {
          "output_type": "stream",
          "name": "stdout",
          "text": [
            "\b\b\b\b\b\b\b\b\b\b\b\b\b\b\b\b\b\b\b\b\b\b\b\b\b\b\b\b\b\b\b\b\b\b\b\b\b\b\b\b\b\b\b\b\b\b\b\b\b\b\b\b\b\b\b\b\b\b\b\b\b\b\b\b\b\b\b\b\b\b\b\b\b\b\b\b\b\b\b\b\b\b\b\b\r256/256 [==============================] - 9s 34ms/step - loss: 0.3244 - accuracy: 0.8869 - val_loss: 0.3331 - val_accuracy: 0.8879\n",
            "Epoch 5/100\n",
            "256/256 [==============================] - ETA: 0s - loss: 0.2794 - accuracy: 0.9021"
          ]
        },
        {
          "output_type": "stream",
          "name": "stderr",
          "text": [
            "WARNING:absl:Found untraced functions such as _jit_compiled_convolution_op, _jit_compiled_convolution_op, _jit_compiled_convolution_op while saving (showing 3 of 3). These functions will not be directly callable after loading.\n"
          ]
        },
        {
          "output_type": "stream",
          "name": "stdout",
          "text": [
            "\b\b\b\b\b\b\b\b\b\b\b\b\b\b\b\b\b\b\b\b\b\b\b\b\b\b\b\b\b\b\b\b\b\b\b\b\b\b\b\b\b\b\b\b\b\b\b\b\b\b\b\b\b\b\b\b\b\b\b\b\b\b\b\b\b\b\b\b\b\b\b\b\b\b\b\b\b\b\b\b\b\b\b\b\r256/256 [==============================] - 8s 32ms/step - loss: 0.2794 - accuracy: 0.9021 - val_loss: 0.3143 - val_accuracy: 0.8893\n",
            "Epoch 6/100\n",
            "256/256 [==============================] - ETA: 0s - loss: 0.2324 - accuracy: 0.9204"
          ]
        },
        {
          "output_type": "stream",
          "name": "stderr",
          "text": [
            "WARNING:absl:Found untraced functions such as _jit_compiled_convolution_op, _jit_compiled_convolution_op, _jit_compiled_convolution_op while saving (showing 3 of 3). These functions will not be directly callable after loading.\n"
          ]
        },
        {
          "output_type": "stream",
          "name": "stdout",
          "text": [
            "\b\b\b\b\b\b\b\b\b\b\b\b\b\b\b\b\b\b\b\b\b\b\b\b\b\b\b\b\b\b\b\b\b\b\b\b\b\b\b\b\b\b\b\b\b\b\b\b\b\b\b\b\b\b\b\b\b\b\b\b\b\b\b\b\b\b\b\b\b\b\b\b\b\b\b\b\b\b\b\b\b\b\b\b\r256/256 [==============================] - 8s 32ms/step - loss: 0.2324 - accuracy: 0.9204 - val_loss: 0.2092 - val_accuracy: 0.9236\n",
            "Epoch 7/100\n",
            "256/256 [==============================] - 6s 25ms/step - loss: 0.1838 - accuracy: 0.9360 - val_loss: 0.2180 - val_accuracy: 0.9251\n",
            "Epoch 8/100\n",
            "254/256 [============================>.] - ETA: 0s - loss: 0.1639 - accuracy: 0.9435"
          ]
        },
        {
          "output_type": "stream",
          "name": "stderr",
          "text": [
            "WARNING:absl:Found untraced functions such as _jit_compiled_convolution_op, _jit_compiled_convolution_op, _jit_compiled_convolution_op while saving (showing 3 of 3). These functions will not be directly callable after loading.\n"
          ]
        },
        {
          "output_type": "stream",
          "name": "stdout",
          "text": [
            "\b\b\b\b\b\b\b\b\b\b\b\b\b\b\b\b\b\b\b\b\b\b\b\b\b\b\b\b\b\b\b\b\b\b\b\b\b\b\b\b\b\b\b\b\b\b\b\b\b\b\b\b\b\b\b\b\b\b\b\b\b\b\b\b\b\b\b\b\b\b\b\b\b\b\b\b\b\b\b\b\b\b\b\b\r256/256 [==============================] - 8s 32ms/step - loss: 0.1634 - accuracy: 0.9438 - val_loss: 0.1393 - val_accuracy: 0.9554\n",
            "Epoch 9/100\n",
            "256/256 [==============================] - ETA: 0s - loss: 0.1636 - accuracy: 0.9432"
          ]
        },
        {
          "output_type": "stream",
          "name": "stderr",
          "text": [
            "WARNING:absl:Found untraced functions such as _jit_compiled_convolution_op, _jit_compiled_convolution_op, _jit_compiled_convolution_op while saving (showing 3 of 3). These functions will not be directly callable after loading.\n"
          ]
        },
        {
          "output_type": "stream",
          "name": "stdout",
          "text": [
            "\b\b\b\b\b\b\b\b\b\b\b\b\b\b\b\b\b\b\b\b\b\b\b\b\b\b\b\b\b\b\b\b\b\b\b\b\b\b\b\b\b\b\b\b\b\b\b\b\b\b\b\b\b\b\b\b\b\b\b\b\b\b\b\b\b\b\b\b\b\b\b\b\b\b\b\b\b\b\b\b\b\b\b\b\r256/256 [==============================] - 8s 33ms/step - loss: 0.1636 - accuracy: 0.9432 - val_loss: 0.1317 - val_accuracy: 0.9608\n",
            "Epoch 10/100\n",
            "256/256 [==============================] - 7s 26ms/step - loss: 0.1447 - accuracy: 0.9498 - val_loss: 0.1601 - val_accuracy: 0.9505\n",
            "Epoch 11/100\n",
            "256/256 [==============================] - ETA: 0s - loss: 0.1252 - accuracy: 0.9548"
          ]
        },
        {
          "output_type": "stream",
          "name": "stderr",
          "text": [
            "WARNING:absl:Found untraced functions such as _jit_compiled_convolution_op, _jit_compiled_convolution_op, _jit_compiled_convolution_op while saving (showing 3 of 3). These functions will not be directly callable after loading.\n"
          ]
        },
        {
          "output_type": "stream",
          "name": "stdout",
          "text": [
            "\b\b\b\b\b\b\b\b\b\b\b\b\b\b\b\b\b\b\b\b\b\b\b\b\b\b\b\b\b\b\b\b\b\b\b\b\b\b\b\b\b\b\b\b\b\b\b\b\b\b\b\b\b\b\b\b\b\b\b\b\b\b\b\b\b\b\b\b\b\b\b\b\b\b\b\b\b\b\b\b\b\b\b\b\r256/256 [==============================] - 9s 34ms/step - loss: 0.1252 - accuracy: 0.9548 - val_loss: 0.1044 - val_accuracy: 0.9696\n",
            "Epoch 12/100\n",
            "256/256 [==============================] - 7s 26ms/step - loss: 0.1048 - accuracy: 0.9625 - val_loss: 0.1471 - val_accuracy: 0.9486\n",
            "Epoch 13/100\n",
            "256/256 [==============================] - 7s 26ms/step - loss: 0.0967 - accuracy: 0.9671 - val_loss: 0.1345 - val_accuracy: 0.9579\n",
            "Epoch 14/100\n",
            "256/256 [==============================] - 7s 25ms/step - loss: 0.0887 - accuracy: 0.9716 - val_loss: 0.1061 - val_accuracy: 0.9662\n",
            "Epoch 15/100\n",
            "256/256 [==============================] - 6s 25ms/step - loss: 0.0861 - accuracy: 0.9690 - val_loss: 0.1239 - val_accuracy: 0.9564\n",
            "Epoch 16/100\n",
            "256/256 [==============================] - 7s 26ms/step - loss: 0.0813 - accuracy: 0.9711 - val_loss: 0.1432 - val_accuracy: 0.9545\n",
            "Epoch 17/100\n",
            "256/256 [==============================] - ETA: 0s - loss: 0.0846 - accuracy: 0.9701"
          ]
        },
        {
          "output_type": "stream",
          "name": "stderr",
          "text": [
            "WARNING:absl:Found untraced functions such as _jit_compiled_convolution_op, _jit_compiled_convolution_op, _jit_compiled_convolution_op while saving (showing 3 of 3). These functions will not be directly callable after loading.\n"
          ]
        },
        {
          "output_type": "stream",
          "name": "stdout",
          "text": [
            "\b\b\b\b\b\b\b\b\b\b\b\b\b\b\b\b\b\b\b\b\b\b\b\b\b\b\b\b\b\b\b\b\b\b\b\b\b\b\b\b\b\b\b\b\b\b\b\b\b\b\b\b\b\b\b\b\b\b\b\b\b\b\b\b\b\b\b\b\b\b\b\b\b\b\b\b\b\b\b\b\b\b\b\b\r256/256 [==============================] - 9s 33ms/step - loss: 0.0846 - accuracy: 0.9701 - val_loss: 0.1031 - val_accuracy: 0.9691\n",
            "Epoch 18/100\n",
            "256/256 [==============================] - 7s 26ms/step - loss: 0.0750 - accuracy: 0.9731 - val_loss: 0.1706 - val_accuracy: 0.9486\n",
            "Epoch 19/100\n",
            "256/256 [==============================] - 7s 26ms/step - loss: 0.0632 - accuracy: 0.9783 - val_loss: 0.1512 - val_accuracy: 0.9496\n",
            "Epoch 20/100\n",
            "254/256 [============================>.] - ETA: 0s - loss: 0.0806 - accuracy: 0.9723"
          ]
        },
        {
          "output_type": "stream",
          "name": "stderr",
          "text": [
            "WARNING:absl:Found untraced functions such as _jit_compiled_convolution_op, _jit_compiled_convolution_op, _jit_compiled_convolution_op while saving (showing 3 of 3). These functions will not be directly callable after loading.\n"
          ]
        },
        {
          "output_type": "stream",
          "name": "stdout",
          "text": [
            "\b\b\b\b\b\b\b\b\b\b\b\b\b\b\b\b\b\b\b\b\b\b\b\b\b\b\b\b\b\b\b\b\b\b\b\b\b\b\b\b\b\b\b\b\b\b\b\b\b\b\b\b\b\b\b\b\b\b\b\b\b\b\b\b\b\b\b\b\b\b\b\b\b\b\b\b\b\b\b\b\b\b\b\b\r256/256 [==============================] - 8s 32ms/step - loss: 0.0804 - accuracy: 0.9723 - val_loss: 0.0963 - val_accuracy: 0.9711\n",
            "Epoch 21/100\n",
            "256/256 [==============================] - 7s 26ms/step - loss: 0.0702 - accuracy: 0.9750 - val_loss: 0.1139 - val_accuracy: 0.9633\n",
            "Epoch 22/100\n",
            "255/256 [============================>.] - ETA: 0s - loss: 0.0685 - accuracy: 0.9763"
          ]
        },
        {
          "output_type": "stream",
          "name": "stderr",
          "text": [
            "WARNING:absl:Found untraced functions such as _jit_compiled_convolution_op, _jit_compiled_convolution_op, _jit_compiled_convolution_op while saving (showing 3 of 3). These functions will not be directly callable after loading.\n"
          ]
        },
        {
          "output_type": "stream",
          "name": "stdout",
          "text": [
            "\b\b\b\b\b\b\b\b\b\b\b\b\b\b\b\b\b\b\b\b\b\b\b\b\b\b\b\b\b\b\b\b\b\b\b\b\b\b\b\b\b\b\b\b\b\b\b\b\b\b\b\b\b\b\b\b\b\b\b\b\b\b\b\b\b\b\b\b\b\b\b\b\b\b\b\b\b\b\b\b\b\b\b\b\r256/256 [==============================] - 8s 32ms/step - loss: 0.0685 - accuracy: 0.9764 - val_loss: 0.0839 - val_accuracy: 0.9736\n",
            "Epoch 23/100\n",
            "256/256 [==============================] - 7s 26ms/step - loss: 0.0631 - accuracy: 0.9788 - val_loss: 0.0969 - val_accuracy: 0.9682\n",
            "Epoch 24/100\n",
            "256/256 [==============================] - 6s 25ms/step - loss: 0.0565 - accuracy: 0.9809 - val_loss: 0.0967 - val_accuracy: 0.9672\n",
            "Epoch 25/100\n",
            "255/256 [============================>.] - ETA: 0s - loss: 0.0437 - accuracy: 0.9842"
          ]
        },
        {
          "output_type": "stream",
          "name": "stderr",
          "text": [
            "WARNING:absl:Found untraced functions such as _jit_compiled_convolution_op, _jit_compiled_convolution_op, _jit_compiled_convolution_op while saving (showing 3 of 3). These functions will not be directly callable after loading.\n"
          ]
        },
        {
          "output_type": "stream",
          "name": "stdout",
          "text": [
            "\b\b\b\b\b\b\b\b\b\b\b\b\b\b\b\b\b\b\b\b\b\b\b\b\b\b\b\b\b\b\b\b\b\b\b\b\b\b\b\b\b\b\b\b\b\b\b\b\b\b\b\b\b\b\b\b\b\b\b\b\b\b\b\b\b\b\b\b\b\b\b\b\b\b\b\b\b\b\b\b\b\b\b\b\r256/256 [==============================] - 8s 33ms/step - loss: 0.0437 - accuracy: 0.9842 - val_loss: 0.0776 - val_accuracy: 0.9770\n",
            "Epoch 26/100\n",
            "256/256 [==============================] - 6s 25ms/step - loss: 0.0502 - accuracy: 0.9829 - val_loss: 0.1061 - val_accuracy: 0.9691\n",
            "Epoch 27/100\n",
            "256/256 [==============================] - 7s 26ms/step - loss: 0.0615 - accuracy: 0.9782 - val_loss: 0.0820 - val_accuracy: 0.9736\n",
            "Epoch 28/100\n",
            "256/256 [==============================] - 6s 25ms/step - loss: 0.0414 - accuracy: 0.9854 - val_loss: 0.0847 - val_accuracy: 0.9750\n",
            "Epoch 29/100\n",
            "256/256 [==============================] - 7s 25ms/step - loss: 0.0415 - accuracy: 0.9846 - val_loss: 0.0784 - val_accuracy: 0.9736\n",
            "Epoch 30/100\n",
            "256/256 [==============================] - 7s 26ms/step - loss: 0.0281 - accuracy: 0.9893 - val_loss: 0.1288 - val_accuracy: 0.9652\n",
            "Epoch 31/100\n",
            "256/256 [==============================] - 7s 26ms/step - loss: 0.0545 - accuracy: 0.9819 - val_loss: 0.0943 - val_accuracy: 0.9745\n",
            "Epoch 32/100\n",
            "256/256 [==============================] - 7s 25ms/step - loss: 0.0483 - accuracy: 0.9833 - val_loss: 0.0868 - val_accuracy: 0.9760\n",
            "Epoch 33/100\n",
            "256/256 [==============================] - 6s 25ms/step - loss: 0.0289 - accuracy: 0.9901 - val_loss: 0.3409 - val_accuracy: 0.9177\n",
            "Epoch 34/100\n",
            "256/256 [==============================] - 7s 26ms/step - loss: 0.0762 - accuracy: 0.9745 - val_loss: 0.0946 - val_accuracy: 0.9721\n",
            "Epoch 35/100\n",
            "256/256 [==============================] - 6s 25ms/step - loss: 0.0284 - accuracy: 0.9908 - val_loss: 0.1751 - val_accuracy: 0.9505\n",
            "Epoch 36/100\n",
            "256/256 [==============================] - 7s 26ms/step - loss: 0.0389 - accuracy: 0.9860 - val_loss: 0.0898 - val_accuracy: 0.9740\n",
            "Epoch 37/100\n",
            "256/256 [==============================] - 6s 25ms/step - loss: 0.0402 - accuracy: 0.9868 - val_loss: 0.1282 - val_accuracy: 0.9647\n",
            "Epoch 38/100\n",
            "256/256 [==============================] - 7s 27ms/step - loss: 0.0269 - accuracy: 0.9908 - val_loss: 0.1903 - val_accuracy: 0.9520\n",
            "Epoch 39/100\n",
            "256/256 [==============================] - 6s 25ms/step - loss: 0.0470 - accuracy: 0.9841 - val_loss: 0.0862 - val_accuracy: 0.9780\n",
            "Epoch 40/100\n",
            "256/256 [==============================] - 7s 27ms/step - loss: 0.0380 - accuracy: 0.9862 - val_loss: 0.0870 - val_accuracy: 0.9740\n",
            "Epoch 41/100\n",
            "256/256 [==============================] - 6s 25ms/step - loss: 0.0234 - accuracy: 0.9919 - val_loss: 0.1110 - val_accuracy: 0.9706\n",
            "Epoch 42/100\n",
            "256/256 [==============================] - 7s 26ms/step - loss: 0.0506 - accuracy: 0.9842 - val_loss: 0.0910 - val_accuracy: 0.9731\n",
            "Epoch 43/100\n",
            "256/256 [==============================] - 6s 25ms/step - loss: 0.0537 - accuracy: 0.9838 - val_loss: 0.1659 - val_accuracy: 0.9520\n",
            "Epoch 44/100\n",
            "256/256 [==============================] - 7s 26ms/step - loss: 0.0239 - accuracy: 0.9919 - val_loss: 0.1348 - val_accuracy: 0.9691\n",
            "Epoch 45/100\n",
            "256/256 [==============================] - 6s 25ms/step - loss: 0.0335 - accuracy: 0.9897 - val_loss: 0.1178 - val_accuracy: 0.9667\n",
            "Epoch 46/100\n",
            "256/256 [==============================] - 7s 26ms/step - loss: 0.0223 - accuracy: 0.9931 - val_loss: 0.1377 - val_accuracy: 0.9672\n",
            "Epoch 47/100\n",
            "255/256 [============================>.] - ETA: 0s - loss: 0.0253 - accuracy: 0.9913"
          ]
        },
        {
          "output_type": "stream",
          "name": "stderr",
          "text": [
            "WARNING:absl:Found untraced functions such as _jit_compiled_convolution_op, _jit_compiled_convolution_op, _jit_compiled_convolution_op while saving (showing 3 of 3). These functions will not be directly callable after loading.\n"
          ]
        },
        {
          "output_type": "stream",
          "name": "stdout",
          "text": [
            "\b\b\b\b\b\b\b\b\b\b\b\b\b\b\b\b\b\b\b\b\b\b\b\b\b\b\b\b\b\b\b\b\b\b\b\b\b\b\b\b\b\b\b\b\b\b\b\b\b\b\b\b\b\b\b\b\b\b\b\b\b\b\b\b\b\b\b\b\b\b\b\b\b\b\b\b\b\b\b\b\b\b\b\b\r256/256 [==============================] - 8s 32ms/step - loss: 0.0253 - accuracy: 0.9913 - val_loss: 0.0734 - val_accuracy: 0.9809\n",
            "Epoch 48/100\n",
            "256/256 [==============================] - 7s 26ms/step - loss: 0.0319 - accuracy: 0.9889 - val_loss: 0.1323 - val_accuracy: 0.9613\n",
            "Epoch 49/100\n",
            "256/256 [==============================] - 6s 25ms/step - loss: 0.0361 - accuracy: 0.9891 - val_loss: 0.1202 - val_accuracy: 0.9643\n",
            "Epoch 50/100\n",
            "256/256 [==============================] - 7s 26ms/step - loss: 0.0175 - accuracy: 0.9936 - val_loss: 0.0744 - val_accuracy: 0.9804\n",
            "Epoch 51/100\n",
            "256/256 [==============================] - 7s 25ms/step - loss: 0.0305 - accuracy: 0.9905 - val_loss: 0.0931 - val_accuracy: 0.9726\n",
            "Epoch 52/100\n",
            "256/256 [==============================] - 6s 25ms/step - loss: 0.0511 - accuracy: 0.9831 - val_loss: 0.0828 - val_accuracy: 0.9780\n",
            "Epoch 53/100\n",
            "256/256 [==============================] - 7s 25ms/step - loss: 0.0196 - accuracy: 0.9928 - val_loss: 0.1070 - val_accuracy: 0.9740\n",
            "Epoch 54/100\n",
            "256/256 [==============================] - 6s 25ms/step - loss: 0.0505 - accuracy: 0.9851 - val_loss: 0.1158 - val_accuracy: 0.9638\n",
            "Epoch 55/100\n",
            "256/256 [==============================] - 7s 26ms/step - loss: 0.0173 - accuracy: 0.9957 - val_loss: 0.1200 - val_accuracy: 0.9687\n",
            "Epoch 56/100\n",
            "256/256 [==============================] - 6s 25ms/step - loss: 0.0142 - accuracy: 0.9942 - val_loss: 0.0915 - val_accuracy: 0.9794\n",
            "Epoch 57/100\n",
            "256/256 [==============================] - 7s 26ms/step - loss: 0.0228 - accuracy: 0.9925 - val_loss: 0.0864 - val_accuracy: 0.9794\n",
            "Epoch 58/100\n",
            "256/256 [==============================] - 6s 24ms/step - loss: 0.0135 - accuracy: 0.9952 - val_loss: 0.1465 - val_accuracy: 0.9677\n",
            "Epoch 59/100\n",
            "256/256 [==============================] - 7s 26ms/step - loss: 0.0283 - accuracy: 0.9897 - val_loss: 0.0873 - val_accuracy: 0.9780\n",
            "Epoch 60/100\n",
            "256/256 [==============================] - 6s 24ms/step - loss: 0.0269 - accuracy: 0.9903 - val_loss: 0.0890 - val_accuracy: 0.9765\n",
            "Epoch 61/100\n",
            "256/256 [==============================] - 7s 26ms/step - loss: 0.0225 - accuracy: 0.9919 - val_loss: 0.1034 - val_accuracy: 0.9701\n",
            "Epoch 62/100\n",
            "256/256 [==============================] - 6s 24ms/step - loss: 0.0219 - accuracy: 0.9929 - val_loss: 0.0787 - val_accuracy: 0.9804\n",
            "Epoch 63/100\n",
            "256/256 [==============================] - 7s 26ms/step - loss: 0.0235 - accuracy: 0.9928 - val_loss: 0.1023 - val_accuracy: 0.9785\n",
            "Epoch 64/100\n",
            "256/256 [==============================] - 6s 24ms/step - loss: 0.0197 - accuracy: 0.9934 - val_loss: 0.1504 - val_accuracy: 0.9623\n",
            "Epoch 65/100\n",
            "256/256 [==============================] - 6s 25ms/step - loss: 0.0234 - accuracy: 0.9919 - val_loss: 0.1227 - val_accuracy: 0.9696\n",
            "Epoch 66/100\n",
            "256/256 [==============================] - 6s 25ms/step - loss: 0.0175 - accuracy: 0.9938 - val_loss: 0.1179 - val_accuracy: 0.9706\n",
            "Epoch 67/100\n",
            "256/256 [==============================] - 6s 25ms/step - loss: 0.0207 - accuracy: 0.9925 - val_loss: 0.0854 - val_accuracy: 0.9789\n",
            "Epoch 68/100\n",
            "256/256 [==============================] - 6s 25ms/step - loss: 0.0204 - accuracy: 0.9936 - val_loss: 0.2888 - val_accuracy: 0.9373\n",
            "Epoch 69/100\n",
            "256/256 [==============================] - 6s 25ms/step - loss: 0.0325 - accuracy: 0.9901 - val_loss: 0.0740 - val_accuracy: 0.9804\n",
            "Epoch 70/100\n",
            "256/256 [==============================] - 6s 25ms/step - loss: 0.0116 - accuracy: 0.9966 - val_loss: 0.1147 - val_accuracy: 0.9736\n",
            "Epoch 71/100\n",
            "256/256 [==============================] - 6s 24ms/step - loss: 0.0129 - accuracy: 0.9949 - val_loss: 0.2863 - val_accuracy: 0.9471\n",
            "Epoch 72/100\n",
            "256/256 [==============================] - 6s 25ms/step - loss: 0.0758 - accuracy: 0.9808 - val_loss: 0.1403 - val_accuracy: 0.9608\n",
            "Epoch 73/100\n",
            "255/256 [============================>.] - ETA: 0s - loss: 0.0232 - accuracy: 0.9920"
          ]
        },
        {
          "output_type": "stream",
          "name": "stderr",
          "text": [
            "WARNING:absl:Found untraced functions such as _jit_compiled_convolution_op, _jit_compiled_convolution_op, _jit_compiled_convolution_op while saving (showing 3 of 3). These functions will not be directly callable after loading.\n"
          ]
        },
        {
          "output_type": "stream",
          "name": "stdout",
          "text": [
            "\b\b\b\b\b\b\b\b\b\b\b\b\b\b\b\b\b\b\b\b\b\b\b\b\b\b\b\b\b\b\b\b\b\b\b\b\b\b\b\b\b\b\b\b\b\b\b\b\b\b\b\b\b\b\b\b\b\b\b\b\b\b\b\b\b\b\b\b\b\b\b\b\b\b\b\b\b\b\b\b\b\b\b\b\r256/256 [==============================] - 8s 30ms/step - loss: 0.0232 - accuracy: 0.9920 - val_loss: 0.0647 - val_accuracy: 0.9824\n",
            "Epoch 74/100\n",
            "256/256 [==============================] - 7s 25ms/step - loss: 0.0050 - accuracy: 0.9984 - val_loss: 0.0702 - val_accuracy: 0.9848\n",
            "Epoch 75/100\n",
            "256/256 [==============================] - 6s 25ms/step - loss: 0.0047 - accuracy: 0.9985 - val_loss: 0.0927 - val_accuracy: 0.9785\n",
            "Epoch 76/100\n",
            "256/256 [==============================] - 6s 25ms/step - loss: 0.0102 - accuracy: 0.9974 - val_loss: 0.1121 - val_accuracy: 0.9736\n",
            "Epoch 77/100\n",
            "256/256 [==============================] - 6s 25ms/step - loss: 0.0315 - accuracy: 0.9898 - val_loss: 0.0939 - val_accuracy: 0.9755\n",
            "Epoch 78/100\n",
            "256/256 [==============================] - 6s 25ms/step - loss: 0.0135 - accuracy: 0.9956 - val_loss: 0.0797 - val_accuracy: 0.9814\n",
            "Epoch 79/100\n",
            "256/256 [==============================] - 6s 25ms/step - loss: 0.0294 - accuracy: 0.9919 - val_loss: 0.1291 - val_accuracy: 0.9608\n",
            "Epoch 80/100\n",
            "256/256 [==============================] - 6s 25ms/step - loss: 0.0193 - accuracy: 0.9934 - val_loss: 0.1294 - val_accuracy: 0.9682\n",
            "Epoch 81/100\n",
            "256/256 [==============================] - 6s 25ms/step - loss: 0.0167 - accuracy: 0.9950 - val_loss: 0.0791 - val_accuracy: 0.9794\n",
            "Epoch 82/100\n",
            "256/256 [==============================] - 6s 25ms/step - loss: 0.0098 - accuracy: 0.9972 - val_loss: 0.1080 - val_accuracy: 0.9750\n",
            "Epoch 83/100\n",
            "256/256 [==============================] - 6s 25ms/step - loss: 0.0292 - accuracy: 0.9914 - val_loss: 0.1126 - val_accuracy: 0.9721\n",
            "Epoch 84/100\n",
            "256/256 [==============================] - 6s 24ms/step - loss: 0.0115 - accuracy: 0.9961 - val_loss: 0.1003 - val_accuracy: 0.9765\n",
            "Epoch 85/100\n",
            "256/256 [==============================] - 7s 26ms/step - loss: 0.0129 - accuracy: 0.9963 - val_loss: 0.1497 - val_accuracy: 0.9652\n",
            "Epoch 86/100\n",
            "256/256 [==============================] - 6s 24ms/step - loss: 0.0176 - accuracy: 0.9942 - val_loss: 0.1700 - val_accuracy: 0.9633\n",
            "Epoch 87/100\n",
            "256/256 [==============================] - 7s 26ms/step - loss: 0.0166 - accuracy: 0.9949 - val_loss: 0.0832 - val_accuracy: 0.9789\n",
            "Epoch 88/100\n",
            "256/256 [==============================] - 6s 24ms/step - loss: 0.0191 - accuracy: 0.9944 - val_loss: 0.0814 - val_accuracy: 0.9789\n",
            "Epoch 89/100\n",
            "256/256 [==============================] - 6s 25ms/step - loss: 0.0205 - accuracy: 0.9944 - val_loss: 0.1456 - val_accuracy: 0.9652\n",
            "Epoch 90/100\n",
            "256/256 [==============================] - 6s 25ms/step - loss: 0.0213 - accuracy: 0.9947 - val_loss: 0.2267 - val_accuracy: 0.9589\n",
            "Epoch 91/100\n",
            "256/256 [==============================] - 6s 25ms/step - loss: 0.0113 - accuracy: 0.9961 - val_loss: 0.1429 - val_accuracy: 0.9696\n",
            "Epoch 92/100\n",
            "256/256 [==============================] - 6s 25ms/step - loss: 0.0247 - accuracy: 0.9928 - val_loss: 0.0667 - val_accuracy: 0.9829\n",
            "Epoch 93/100\n",
            "256/256 [==============================] - 6s 25ms/step - loss: 0.0075 - accuracy: 0.9974 - val_loss: 0.0860 - val_accuracy: 0.9799\n",
            "Epoch 94/100\n",
            "256/256 [==============================] - 6s 25ms/step - loss: 0.0291 - accuracy: 0.9917 - val_loss: 0.1098 - val_accuracy: 0.9711\n",
            "Epoch 95/100\n",
            "256/256 [==============================] - 6s 25ms/step - loss: 0.0053 - accuracy: 0.9984 - val_loss: 0.1402 - val_accuracy: 0.9696\n",
            "Epoch 96/100\n",
            "256/256 [==============================] - 7s 26ms/step - loss: 0.0109 - accuracy: 0.9963 - val_loss: 0.0840 - val_accuracy: 0.9789\n",
            "Epoch 97/100\n",
            "256/256 [==============================] - 6s 25ms/step - loss: 0.0185 - accuracy: 0.9946 - val_loss: 0.1043 - val_accuracy: 0.9775\n",
            "Epoch 98/100\n",
            "256/256 [==============================] - 7s 26ms/step - loss: 0.0221 - accuracy: 0.9949 - val_loss: 0.0883 - val_accuracy: 0.9794\n",
            "Epoch 99/100\n",
            "256/256 [==============================] - 6s 24ms/step - loss: 0.0153 - accuracy: 0.9957 - val_loss: 0.0923 - val_accuracy: 0.9799\n",
            "Epoch 100/100\n",
            "256/256 [==============================] - 7s 26ms/step - loss: 0.0186 - accuracy: 0.9946 - val_loss: 0.0938 - val_accuracy: 0.9760\n"
          ]
        }
      ]
    },
    {
      "cell_type": "code",
      "source": [
        "model.summary()"
      ],
      "metadata": {
        "colab": {
          "base_uri": "https://localhost:8080/"
        },
        "id": "PjztVF5GT_cf",
        "outputId": "df7af1c9-dacb-4825-95f0-1509c0229e35"
      },
      "execution_count": 12,
      "outputs": [
        {
          "output_type": "stream",
          "name": "stdout",
          "text": [
            "Model: \"sequential\"\n",
            "_________________________________________________________________\n",
            " Layer (type)                Output Shape              Param #   \n",
            "=================================================================\n",
            " conv2d (Conv2D)             (None, 98, 98, 128)       3584      \n",
            "                                                                 \n",
            " activation (Activation)     (None, 98, 98, 128)       0         \n",
            "                                                                 \n",
            " max_pooling2d (MaxPooling2D  (None, 49, 49, 128)      0         \n",
            " )                                                               \n",
            "                                                                 \n",
            " conv2d_1 (Conv2D)           (None, 47, 47, 64)        73792     \n",
            "                                                                 \n",
            " activation_1 (Activation)   (None, 47, 47, 64)        0         \n",
            "                                                                 \n",
            " max_pooling2d_1 (MaxPooling  (None, 23, 23, 64)       0         \n",
            " 2D)                                                             \n",
            "                                                                 \n",
            " conv2d_2 (Conv2D)           (None, 21, 21, 32)        18464     \n",
            "                                                                 \n",
            " activation_2 (Activation)   (None, 21, 21, 32)        0         \n",
            "                                                                 \n",
            " max_pooling2d_2 (MaxPooling  (None, 10, 10, 32)       0         \n",
            " 2D)                                                             \n",
            "                                                                 \n",
            " flatten (Flatten)           (None, 3200)              0         \n",
            "                                                                 \n",
            " dropout (Dropout)           (None, 3200)              0         \n",
            "                                                                 \n",
            " dense (Dense)               (None, 64)                204864    \n",
            "                                                                 \n",
            " dense_1 (Dense)             (None, 16)                1040      \n",
            "                                                                 \n",
            " dense_2 (Dense)             (None, 6)                 102       \n",
            "                                                                 \n",
            "=================================================================\n",
            "Total params: 301,846\n",
            "Trainable params: 301,846\n",
            "Non-trainable params: 0\n",
            "_________________________________________________________________\n"
          ]
        }
      ]
    },
    {
      "cell_type": "code",
      "source": [
        "print(\"[INFO] saving covid detection model...\")\n",
        "model.save('/content/drive/MyDrive/datset/plantdisease/plant_disease.model', save_format=\"h5\")"
      ],
      "metadata": {
        "colab": {
          "base_uri": "https://localhost:8080/"
        },
        "id": "MH9d7cTQia6l",
        "outputId": "833ebe89-c814-4da3-f74a-229c037ab00b"
      },
      "execution_count": 14,
      "outputs": [
        {
          "output_type": "stream",
          "name": "stdout",
          "text": [
            "[INFO] saving covid detection model...\n"
          ]
        }
      ]
    },
    {
      "cell_type": "code",
      "source": [
        "print(model.evaluate(test_data,test_target))"
      ],
      "metadata": {
        "colab": {
          "base_uri": "https://localhost:8080/"
        },
        "id": "K0ng1zAyisbj",
        "outputId": "05c30209-6154-4f2c-f369-4202eeef39c1"
      },
      "execution_count": 15,
      "outputs": [
        {
          "output_type": "stream",
          "name": "stdout",
          "text": [
            "36/36 [==============================] - 1s 20ms/step - loss: 0.1154 - accuracy: 0.9665\n",
            "[0.11535706371068954, 0.966519832611084]\n"
          ]
        }
      ]
    },
    {
      "cell_type": "code",
      "source": [
        "plt.plot(history.history['loss'],'r',label='training loss')\n",
        "plt.plot(history.history['val_loss'],label='validation loss')\n",
        "plt.xlabel('# epochs')\n",
        "plt.ylabel('loss')\n",
        "plt.legend()\n",
        "plt.show()\n",
        "plt.savefig('/content/drive/MyDrive/datset/plantdisease/training loss.jpg',pad_inches = 1)"
      ],
      "metadata": {
        "colab": {
          "base_uri": "https://localhost:8080/",
          "height": 466
        },
        "id": "ujt-Axpui90_",
        "outputId": "22ca6555-4b9d-4db5-d7a7-ec74eeeb52b3"
      },
      "execution_count": 16,
      "outputs": [
        {
          "output_type": "display_data",
          "data": {
            "text/plain": [
              "<Figure size 640x480 with 1 Axes>"
            ],
            "image/png": "[encoded data removed]"
          },
          "metadata": {}
        },
        {
          "output_type": "display_data",
          "data": {
            "text/plain": [
              "<Figure size 640x480 with 0 Axes>"
            ]
          },
          "metadata": {}
        }
      ]
    },
    {
      "cell_type": "code",
      "source": [
        "plt.plot(history.history['accuracy'],'r',label='training accuracy')\n",
        "plt.plot(history.history['val_accuracy'],label='validation accuracy')\n",
        "plt.xlabel('# epochs')\n",
        "plt.ylabel('loss')\n",
        "plt.legend()\n",
        "plt.show()\n",
        "plt.savefig('/content/drive/MyDrive/datset/plantdisease/training accuracy.jpg',pad_inches = 1)\n"
      ],
      "metadata": {
        "colab": {
          "base_uri": "https://localhost:8080/",
          "height": 466
        },
        "id": "QKKmj2IqjL_9",
        "outputId": "b93fef8f-6eff-4ef5-e916-b857d24885d0"
      },
      "execution_count": 17,
      "outputs": [
        {
          "output_type": "display_data",
          "data": {
            "text/plain": [
              "<Figure size 640x480 with 1 Axes>"
            ],
            "image/png": "[encoded data removed]"
          },
          "metadata": {}
        },
        {
          "output_type": "display_data",
          "data": {
            "text/plain": [
              "<Figure size 640x480 with 0 Axes>"
            ]
          },
          "metadata": {}
        }
      ]
    },
    {
      "cell_type": "markdown",
      "source": [
        "# Training of Model finished\n",
        "# Now from here on testing of model is done"
      ],
      "metadata": {
        "id": "TXxv88SSkR9x"
      }
    },
    {
      "cell_type": "code",
      "source": [
        "np.save('/content/drive/MyDrive/datset/plantdisease/test_data',test_data)\n",
        "np.save('/content/drive/MyDrive/datset/plantdisease/test_target',test_target)"
      ],
      "metadata": {
        "id": "5lrhLfeujck0"
      },
      "execution_count": 18,
      "outputs": []
    },
    {
      "cell_type": "code",
      "source": [
        "model = load_model('/content/drive/MyDrive/final year project/Important/xray.model')"
      ],
      "metadata": {
        "id": "iS78MPq3kCwA"
      },
      "execution_count": null,
      "outputs": []
    },
    {
      "cell_type": "markdown",
      "source": [
        "# Testing the model by giving the single image"
      ],
      "metadata": {
        "id": "gxk4A7apmXId"
      }
    },
    {
      "cell_type": "code",
      "source": [
        "img_path = '/content/drive/MyDrive/datset/plantdisease/valid/Apple___Black_rot/02859ed3-f56a-4315-82a5-c1cb72717225___JR_FrgE.S 8584_new30degFlipLR.JPG'\n",
        "testing=cv2.imread(img_path)\n",
        "resized=cv2.resize(testing,(100,100))\n",
        "\n",
        "normalized=resized/255.0\n",
        "reshaped=np.reshape(normalized,(1,100,100,3))\n",
        "result=model.predict(reshaped)\n",
        "#print(result)\n",
        "place_array = np.where(result[0] == max(result[0]))\n",
        "#print(place_array)\n",
        "posi = place_array[0][0]\n",
        "categories[posi]"
      ],
      "metadata": {
        "colab": {
          "base_uri": "https://localhost:8080/",
          "height": 52
        },
        "id": "9KoFUxCrkdZ1",
        "outputId": "35f733f6-c5d2-409e-8a7e-0c6cef6d0bdb"
      },
      "execution_count": 42,
      "outputs": [
        {
          "output_type": "stream",
          "name": "stdout",
          "text": [
            "1/1 [==============================] - 0s 86ms/step\n"
          ]
        },
        {
          "output_type": "execute_result",
          "data": {
            "text/plain": [
              "'Apple___Black_rot'"
            ],
            "application/vnd.google.colaboratory.intrinsic+json": {
              "type": "string"
            }
          },
          "metadata": {},
          "execution_count": 42
        }
      ]
    },
    {
      "cell_type": "code",
      "source": [
        "y_pred = model.predict(test_data)"
      ],
      "metadata": {
        "colab": {
          "base_uri": "https://localhost:8080/"
        },
        "id": "0OX9Heaiktsb",
        "outputId": "737f4e67-3ffa-470a-a5b8-4dc82b8a8732"
      },
      "execution_count": 20,
      "outputs": [
        {
          "output_type": "stream",
          "name": "stdout",
          "text": [
            "36/36 [==============================] - 0s 12ms/step\n"
          ]
        }
      ]
    },
    {
      "cell_type": "code",
      "source": [
        "y_pred"
      ],
      "metadata": {
        "colab": {
          "base_uri": "https://localhost:8080/"
        },
        "id": "xJFgM5THk8U6",
        "outputId": "fa36b255-f7de-48db-a3ba-888752fa22d7"
      },
      "execution_count": 21,
      "outputs": [
        {
          "output_type": "execute_result",
          "data": {
            "text/plain": [
              "array([[9.9999964e-01, 1.0619066e-11, 1.3854319e-10, 3.6954984e-07,\n",
              "        2.8977791e-09, 7.8745528e-15],\n",
              "       [5.0210097e-04, 7.7277925e-08, 1.7924185e-11, 9.9949741e-01,\n",
              "        9.8171808e-09, 3.4394569e-07],\n",
              "       [2.5886724e-15, 7.3283429e-10, 2.6849894e-11, 3.1161763e-14,\n",
              "        1.0000000e+00, 2.4369229e-14],\n",
              "       ...,\n",
              "       [3.7877226e-09, 9.9997103e-01, 8.6651585e-07, 4.8676413e-10,\n",
              "        2.8067874e-05, 1.0203938e-08],\n",
              "       [8.2274199e-02, 4.4221844e-05, 8.7710446e-01, 3.4495542e-04,\n",
              "        4.0231958e-02, 9.8161017e-08],\n",
              "       [2.0907081e-23, 2.8339443e-27, 1.8610717e-27, 2.2219803e-19,\n",
              "        2.8131879e-20, 1.0000000e+00]], dtype=float32)"
            ]
          },
          "metadata": {},
          "execution_count": 21
        }
      ]
    },
    {
      "cell_type": "code",
      "source": [
        "from sklearn.metrics import confusion_matrix\n",
        "import seaborn as sns\n",
        "\n",
        "plt.figure(figsize = (16,9))\n",
        "y_pred_labels = [np.argmax(label) for label in y_pred]\n",
        "test_target_labels = [np.argmax(label) for label in test_target]\n",
        "cm = confusion_matrix(test_target_labels,y_pred_labels)\n",
        "\n",
        "sns.heatmap(cm,annot= True, fmt = 'd',xticklabels =categories,yticklabels= categories)\n",
        "plt.show()\n",
        "plt.savefig('/content/drive/MyDrive/datset/plantdisease/Confusion_Matrix.jpg',pad_inches = 1)"
      ],
      "metadata": {
        "colab": {
          "base_uri": "https://localhost:8080/",
          "height": 790
        },
        "id": "gHNIgoGWk_KG",
        "outputId": "bb9fd354-d8ae-4362-c39c-ed56b3dd5a25"
      },
      "execution_count": 24,
      "outputs": [
        {
          "output_type": "display_data",
          "data": {
            "text/plain": [
              "<Figure size 1600x900 with 2 Axes>"
            ],
            "image/png": "[encoded data removed]"
          },
          "metadata": {}
        },
        {
          "output_type": "display_data",
          "data": {
            "text/plain": [
              "<Figure size 640x480 with 0 Axes>"
            ]
          },
          "metadata": {}
        }
      ]
    },
    {
      "cell_type": "code",
      "source": [
        "from sklearn.metrics import classification_report\n",
        "class_rep = classification_report(test_target_labels,y_pred_labels)\n",
        "print(class_rep)"
      ],
      "metadata": {
        "colab": {
          "base_uri": "https://localhost:8080/"
        },
        "id": "5IRl_0MwlLlP",
        "outputId": "8b7376e3-0aff-4945-bbc1-260c1bbb7dde"
      },
      "execution_count": 25,
      "outputs": [
        {
          "output_type": "stream",
          "name": "stdout",
          "text": [
            "              precision    recall  f1-score   support\n",
            "\n",
            "           0       0.97      0.92      0.94       195\n",
            "           1       1.00      0.97      0.99       194\n",
            "           2       0.99      0.97      0.98       166\n",
            "           3       0.95      0.97      0.96       217\n",
            "           4       0.95      0.97      0.96       195\n",
            "           5       0.94      1.00      0.97       168\n",
            "\n",
            "    accuracy                           0.97      1135\n",
            "   macro avg       0.97      0.97      0.97      1135\n",
            "weighted avg       0.97      0.97      0.97      1135\n",
            "\n"
          ]
        }
      ]
    },
    {
      "cell_type": "code",
      "source": [],
      "metadata": {
        "id": "0H2Qpy_fly7m"
      },
      "execution_count": null,
      "outputs": []
    }
  ]
}